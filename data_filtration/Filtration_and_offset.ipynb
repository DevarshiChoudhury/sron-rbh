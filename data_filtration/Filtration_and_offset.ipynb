{
 "cells": [
  {
   "cell_type": "code",
   "execution_count": 1,
   "metadata": {},
   "outputs": [],
   "source": [
    "# Importing libraries to work with\n",
    "from astropy.io.votable import parse_single_table as pst\n",
    "import pandas as pd\n",
    "import csv\n",
    "import numpy as np\n",
    "import matplotlib.pyplot as plt\n",
    "import matplotlib.patches as patches"
   ]
  },
  {
   "cell_type": "code",
   "execution_count": 2,
   "metadata": {},
   "outputs": [],
   "source": [
    "def opt_filter(non_matched_tab):\n",
    "    \"\"\"Removes SDSS detections that have Petrosian r-mag > 22.5 since errors associated with the\n",
    "       Petrosian radius below this is stable\n",
    "       \n",
    "    non_matched_tab = table of optical data containing Petrosian r-band magnitude \n",
    "    \n",
    "    Returns only those objects that meet the aforementioned criteria\n",
    "    \"\"\"\n",
    "    \n",
    "    tab_rp_valid = (non_matched_tab.loc[non_matched_tab.petromag_r < 22.5]).values.tolist()\n",
    "    \n",
    "    return tab_rp_valid"
   ]
  },
  {
   "cell_type": "code",
   "execution_count": 3,
   "metadata": {},
   "outputs": [],
   "source": [
    "def xray_filter(tab_vot):\n",
    "    \"\"\" Filters all the CSCview cross-matched sources based on the following conditions for x-ray data:\n",
    "        1. Detections must be above 3-sigma significance to remove spurious detections\n",
    "        2. objects with Major_axis of energy bands < 1 indicating observation as a point source in the given band\n",
    "        To check the energy ranges of each band, visit http://cxc.harvard.edu/csc/columns/ebands.html\n",
    "    \n",
    "    tab_vot = table returned by CSCview with cross-matched X-ray targets\n",
    "    \n",
    "    Returns only those objects that meet the aforementioned criteria\n",
    "    \"\"\"\n",
    "    \n",
    "    tab_2CXO = tab_vot.array[(tab_vot.array['master_source.significance']>3)\n",
    "                             & (tab_vot.array['master_source.major_axis_m']<1)\n",
    "                             & (tab_vot.array['master_source.major_axis_b']<1) \n",
    "                             & (tab_vot.array['master_source.major_axis_h']<1) \n",
    "                             & (tab_vot.array['master_source.major_axis_s']<1) \n",
    "                             & (tab_vot.array['master_source.major_axis_u']<1)].tolist()\n",
    "    return tab_2CXO"
   ]
  },
  {
   "cell_type": "code",
   "execution_count": 4,
   "metadata": {},
   "outputs": [],
   "source": [
    "def final_match(tab_xray, tab_opt):\n",
    "    \"\"\" Appends SDSS and cross-matched tables\n",
    "    \n",
    "    tab_xray = filtered table of X-ray targets\n",
    "    tab_opt = filtered table of optical data\n",
    "    \n",
    "    Returns table after matching filtered X-ray and optical sources only consisting of parameters of interest\n",
    "    \"\"\"\n",
    "    \n",
    "    tab_match_final = []    # Initiating list to be made into final table\n",
    "    c=0    # Initiating counter to see if there are any mathced sources after filtration \n",
    "    for xray in tab_xray:\n",
    "        for opt in tab_opt:\n",
    "            if xray[0] == opt[0]:    # matching tables based on common entity: SDSS SpecObjID\n",
    "                tot = [opt[0],opt[1],opt[2],opt[3],opt[4],opt[5],opt[6],\n",
    "                       opt[134],opt[140],opt[152],opt[232],opt[233],opt[234],\n",
    "                       opt[235],opt[236],opt[237],opt[238],opt[239],opt[240],\n",
    "                       opt[241],opt[242],opt[243],opt[244],opt[245],opt[246],\n",
    "                       opt[247],opt[248],opt[249],opt[250],opt[251],opt[252],\n",
    "                       opt[253],opt[254],opt[255],opt[256],opt[257],opt[258],\n",
    "                       opt[261],opt[262],\n",
    "                       xray[3],xray[4],xray[5],xray[6],xray[7],xray[9],\n",
    "                            xray[20],xray[30],xray[40],xray[50],xray[60]]\n",
    "                tab_match_final.append(tot)\n",
    "                c=1\n",
    "    if c==0:\n",
    "            print(\"No match\")\n",
    "    \n",
    "    return tab_match_final"
   ]
  },
  {
   "cell_type": "code",
   "execution_count": 5,
   "metadata": {},
   "outputs": [],
   "source": [
    "def isoff(ra_x, ra_o, dec_x, dec_o, raerr_x, raerr_o, decerr_x, decerr_o, rp):\n",
    "    \n",
    "    \"\"\" Calculates the offset between the X-ray and optical source coordinates and checks if it is >= 5 * r_p\n",
    "    \n",
    "    ra_x, dec_x = X-ray source coordinates\n",
    "    dec_o, dec_x = Optical source coordinates\n",
    "    raerr_x, decerr_x = Errors associated with X-ray coordinates\n",
    "    raerr_o, decerr_o = Errors associated with Optical coordinates\n",
    "    rp = Petrosian radius\n",
    "    \n",
    "    Returns the offset in terms of arcsec and r_p, the error associated with the offset and flag for above criteria\n",
    "    \"\"\"\n",
    "    \n",
    "    # calculating the offset\n",
    "    ra_diff = abs(ra_x - ra_o)\n",
    "    dec_diff = abs(dec_x - dec_o)\n",
    "    offset_arcsec = np.sqrt(ra_diff**2 + dec_diff**2)\n",
    "    offset_rp = offset_arcsec/(rp)\n",
    "    \n",
    "    # calculating the error in offset\n",
    "    del_ra_diff = np.sqrt(raerr_x**2 + raerr_o**2)\n",
    "    del_dec_diff = np.sqrt(decerr_x**2 + decerr_o**2)\n",
    "    del_offset = np.sqrt((ra_diff/offset_arcsec * del_ra_diff)**2 + (dec_diff/offset_arcsec * del_dec_diff)**2)\n",
    "    \n",
    "    # checking if the offset is above 5 * r_p\n",
    "    if offset_arcsec/del_offset >= 5:\n",
    "        result = 'True'\n",
    "    else:\n",
    "        result = 'False'   \n",
    "    \n",
    "    return offset_arcsec, offset_rp, del_offset, result"
   ]
  },
  {
   "cell_type": "code",
   "execution_count": 6,
   "metadata": {},
   "outputs": [],
   "source": [
    "def offset_det(tab_cand):\n",
    "    \"\"\" Checks if the offset between optical and X-ray sources are above 5 * r_p and discards objects if not \n",
    "    \n",
    "    tab_cand = filtered cross-matched table of optical and x-ray data\n",
    "    \n",
    "    Returns those objects that meets the above criteria\n",
    "    \"\"\"\n",
    "    \n",
    "    tab_final = []    # Initializing objects that \n",
    "    for obj in tab_cand:\n",
    "        obj_copy = obj.copy()\n",
    "        offset_arcsec, offset_rp, del_offset, result = isoff(obj_copy[40]*3600,obj_copy[3]*3600,obj_copy[41]*3600,\n",
    "                                                             obj_copy[4]*3600, obj_copy[42],obj_copy[37],\n",
    "                                                             obj_copy[43],obj_copy[38], obj_copy[14])\n",
    "        obj_copy.append(offset_arcsec)\n",
    "        obj_copy.append(offset_rp)\n",
    "        obj_copy.append(del_offset)\n",
    "        obj_copy.append(result)\n",
    "        if result == 'True':\n",
    "            tab_final.append(obj_copy)\n",
    "    return(tab_final)"
   ]
  },
  {
   "cell_type": "code",
   "execution_count": 7,
   "metadata": {},
   "outputs": [
    {
     "name": "stderr",
     "output_type": "stream",
     "text": [
      "WARNING: W50: cscresults_hd_merg_sat.vot:58:0: W50: Invalid unit string 'erg/s/cm^2' [astropy.io.votable.tree]\n",
      "WARNING: W50: cscresults_hd_merg_sat.vot:61:0: W50: Invalid unit string 'erg/s/cm^2' [astropy.io.votable.tree]\n",
      "WARNING: W50: cscresults_hd_merg_sat.vot:64:0: W50: Invalid unit string 'erg/s/cm^2' [astropy.io.votable.tree]\n",
      "WARNING: W50: cscresults_hd_merg_sat.vot:67:0: W50: Invalid unit string 'erg/s/cm^2' [astropy.io.votable.tree]\n",
      "WARNING: W50: cscresults_hd_merg_sat.vot:70:0: W50: Invalid unit string 'erg/s/cm^2' [astropy.io.votable.tree]\n",
      "WARNING: W50: cscresults_hd_merg_sat.vot:73:0: W50: Invalid unit string 'erg/s/cm^2' [astropy.io.votable.tree]\n",
      "WARNING: W50: cscresults_hd_merg_sat.vot:103:0: W50: Invalid unit string 'arcsec^2' [astropy.io.votable.tree]\n",
      "WARNING: W50: cscresults_hd_merg_sat.vot:133:0: W50: Invalid unit string 'arcsec^2' [astropy.io.votable.tree]\n",
      "WARNING: W50: cscresults_hd_merg_sat.vot:163:0: W50: Invalid unit string 'arcsec^2' [astropy.io.votable.tree]\n",
      "WARNING: W50: cscresults_hd_merg_sat.vot:193:0: W50: Invalid unit string 'arcsec^2' (suppressing further warnings of this type...) [astropy.io.votable.tree]\n",
      "WARNING: W50: cscresults_hd_irreg_sat.vot:58:0: W50: Invalid unit string 'erg/s/cm^2' [astropy.io.votable.tree]\n",
      "WARNING: W50: cscresults_hd_irreg_sat.vot:61:0: W50: Invalid unit string 'erg/s/cm^2' [astropy.io.votable.tree]\n",
      "WARNING: W50: cscresults_hd_irreg_sat.vot:64:0: W50: Invalid unit string 'erg/s/cm^2' [astropy.io.votable.tree]\n",
      "WARNING: W50: cscresults_hd_irreg_sat.vot:67:0: W50: Invalid unit string 'erg/s/cm^2' [astropy.io.votable.tree]\n",
      "WARNING: W50: cscresults_hd_irreg_sat.vot:70:0: W50: Invalid unit string 'erg/s/cm^2' [astropy.io.votable.tree]\n",
      "WARNING: W50: cscresults_hd_irreg_sat.vot:73:0: W50: Invalid unit string 'erg/s/cm^2' [astropy.io.votable.tree]\n",
      "WARNING: W50: cscresults_hd_irreg_sat.vot:103:0: W50: Invalid unit string 'arcsec^2' [astropy.io.votable.tree]\n",
      "WARNING: W50: cscresults_hd_irreg_sat.vot:133:0: W50: Invalid unit string 'arcsec^2' [astropy.io.votable.tree]\n",
      "WARNING: W50: cscresults_hd_irreg_sat.vot:163:0: W50: Invalid unit string 'arcsec^2' [astropy.io.votable.tree]\n",
      "WARNING: W50: cscresults_hd_irreg_sat.vot:193:0: W50: Invalid unit string 'arcsec^2' (suppressing further warnings of this type...) [astropy.io.votable.tree]\n",
      "WARNING: W50: cscresults_hd_dist_sat.vot:58:0: W50: Invalid unit string 'erg/s/cm^2' [astropy.io.votable.tree]\n",
      "WARNING: W50: cscresults_hd_dist_sat.vot:61:0: W50: Invalid unit string 'erg/s/cm^2' [astropy.io.votable.tree]\n",
      "WARNING: W50: cscresults_hd_dist_sat.vot:64:0: W50: Invalid unit string 'erg/s/cm^2' [astropy.io.votable.tree]\n",
      "WARNING: W50: cscresults_hd_dist_sat.vot:67:0: W50: Invalid unit string 'erg/s/cm^2' [astropy.io.votable.tree]\n",
      "WARNING: W50: cscresults_hd_dist_sat.vot:70:0: W50: Invalid unit string 'erg/s/cm^2' [astropy.io.votable.tree]\n",
      "WARNING: W50: cscresults_hd_dist_sat.vot:73:0: W50: Invalid unit string 'erg/s/cm^2' [astropy.io.votable.tree]\n",
      "WARNING: W50: cscresults_hd_dist_sat.vot:103:0: W50: Invalid unit string 'arcsec^2' [astropy.io.votable.tree]\n",
      "WARNING: W50: cscresults_hd_dist_sat.vot:133:0: W50: Invalid unit string 'arcsec^2' [astropy.io.votable.tree]\n",
      "WARNING: W50: cscresults_hd_dist_sat.vot:163:0: W50: Invalid unit string 'arcsec^2' [astropy.io.votable.tree]\n",
      "WARNING: W50: cscresults_hd_dist_sat.vot:193:0: W50: Invalid unit string 'arcsec^2' (suppressing further warnings of this type...) [astropy.io.votable.tree]\n"
     ]
    }
   ],
   "source": [
    "# Reading SDSS data prior to cross-match performed by CSCview. The rowindex count starts from 0 when using pandas\n",
    "non_matched_mergs = pd.read_csv(r\"hd_merg_sat_dc1408.csv\")\n",
    "non_matched_irreg = pd.read_csv(r\"hd_irreg_sat_dc1408.csv\")\n",
    "non_matched_distr = pd.read_csv(r\"hd_dist_sat_dc1408.csv\")\n",
    "\n",
    "# Reading 2CXO data after cross-matching against SDSS GZ2 data. \n",
    "mergs_vot = pst(\"cscresults_hd_merg_sat.vot\")\n",
    "irreg_vot = pst(\"cscresults_hd_irreg_sat.vot\")\n",
    "distr_vot = pst(\"cscresults_hd_dist_sat.vot\")"
   ]
  },
  {
   "cell_type": "code",
   "execution_count": 8,
   "metadata": {},
   "outputs": [],
   "source": [
    "# Filtering optical data\n",
    "merg_opt = opt_filter(non_matched_mergs)\n",
    "irreg_opt = opt_filter(non_matched_irreg)\n",
    "dist_opt = opt_filter(non_matched_distr)"
   ]
  },
  {
   "cell_type": "code",
   "execution_count": 9,
   "metadata": {},
   "outputs": [
    {
     "name": "stderr",
     "output_type": "stream",
     "text": [
      "C:\\Users\\devar\\Anaconda3\\lib\\site-packages\\ipykernel_launcher.py:17: RuntimeWarning: invalid value encountered in less\n"
     ]
    }
   ],
   "source": [
    "# Filtering X-ray data\n",
    "merg_xray = xray_filter(mergs_vot)\n",
    "irreg_xray = xray_filter(irreg_vot)\n",
    "dist_xray = xray_filter(distr_vot)"
   ]
  },
  {
   "cell_type": "code",
   "execution_count": 10,
   "metadata": {},
   "outputs": [],
   "source": [
    "# Merging filtered optical and X-ray data\n",
    "merg_cand = final_match(merg_xray, merg_opt)\n",
    "irreg_cand = final_match(irreg_xray, irreg_opt)\n",
    "dist_cand = final_match(dist_xray, dist_opt)"
   ]
  },
  {
   "cell_type": "code",
   "execution_count": 11,
   "metadata": {},
   "outputs": [],
   "source": [
    "# Offset between optical and x-ray sources determined and sources filtered accordingly\n",
    "mergs = offset_det(merg_cand)\n",
    "irreg = offset_det(irreg_cand)\n",
    "distr = offset_det(dist_cand)"
   ]
  },
  {
   "cell_type": "code",
   "execution_count": 12,
   "metadata": {},
   "outputs": [],
   "source": [
    "# Saving filtered data to csv files based on their morphological classification\n",
    "with open('merg_cand_1.csv', 'w', newline='') as fp:\n",
    "    a = csv.writer(fp, delimiter=',')\n",
    "    a.writerows(mergs)\n",
    "\n",
    "with open('irreg_cand_1.csv', 'w', newline='') as fp:\n",
    "    b = csv.writer(fp, delimiter=',')\n",
    "    b.writerows(irreg)\n",
    "\n",
    "with open('dist_cand_1.csv', 'w', newline='') as fp:\n",
    "    c = csv.writer(fp, delimiter=',')\n",
    "    c.writerows(distr)"
   ]
  },
  {
   "cell_type": "code",
   "execution_count": null,
   "metadata": {},
   "outputs": [],
   "source": []
  }
 ],
 "metadata": {
  "kernelspec": {
   "display_name": "Python 3",
   "language": "python",
   "name": "python3"
  },
  "language_info": {
   "codemirror_mode": {
    "name": "ipython",
    "version": 3
   },
   "file_extension": ".py",
   "mimetype": "text/x-python",
   "name": "python",
   "nbconvert_exporter": "python",
   "pygments_lexer": "ipython3",
   "version": "3.6.5"
  }
 },
 "nbformat": 4,
 "nbformat_minor": 2
}
